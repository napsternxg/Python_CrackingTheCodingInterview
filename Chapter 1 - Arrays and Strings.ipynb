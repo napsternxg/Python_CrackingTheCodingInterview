{
 "cells": [
  {
   "cell_type": "markdown",
   "metadata": {},
   "source": [
    "## Is Unique\n",
    "If string has all characters as unique. \n",
    "\n",
    "* **Approach 1:** Move left to right in string. Keep set of characters seen. If already seen character seen again return false.\n",
    "* **Approach 2:** (No extra memory) Sort the string, if 2 adjacent characters are same then return false."
   ]
  },
  {
   "cell_type": "code",
   "execution_count": 1,
   "metadata": {
    "collapsed": false
   },
   "outputs": [
    {
     "name": "stdout",
     "output_type": "stream",
     "text": [
      "Passed all tests.\n"
     ]
    }
   ],
   "source": [
    "def is_unique_1(s):\n",
    "    seen_chars = set()\n",
    "    for c in s:\n",
    "        if c in seen_chars:\n",
    "            return False\n",
    "        seen_chars.add(c)\n",
    "    return True\n",
    "\n",
    "def is_unique_2(s):\n",
    "    ## Approach 2\n",
    "    s = sorted(s)\n",
    "    for i,c in enumerate(s[1:], start=1):\n",
    "        if s[i-1] == c:\n",
    "            return False\n",
    "    return True\n",
    "\n",
    "for s, ans in zip([\"abc\", \"abca\", \"aaabbcc\"],\n",
    "            [True, False, False]):\n",
    "    assert is_unique_1(s) == is_unique_2(s) == ans\n",
    "else:\n",
    "    print \"Passed all tests.\"\n",
    "    "
   ]
  },
  {
   "cell_type": "markdown",
   "metadata": {},
   "source": [
    "## Check permutations\n",
    "\n",
    "Check if s1 is permutation of s2\n",
    "\n",
    "* **Approach 1:** sorted(s1) == sorted(s2) $\\mathcal{O}(n\\log{}n)$\n",
    "* **Approach 2:** freq_dist(s1) == freq_dist(s2) $\\mathcal{O}(n)$"
   ]
  },
  {
   "cell_type": "code",
   "execution_count": 2,
   "metadata": {
    "collapsed": false
   },
   "outputs": [
    {
     "name": "stdout",
     "output_type": "stream",
     "text": [
      "Passed all tests.\n"
     ]
    }
   ],
   "source": [
    "def check_permute_1(s1,s2):\n",
    "    return sorted(s1) == sorted(s2)\n",
    "\n",
    "def check_permute_2(s1,s2):\n",
    "    if len(s1) != len(s2):\n",
    "        return False\n",
    "    def freq_dist(s):\n",
    "        dist = {}\n",
    "        for c in s:\n",
    "            if c not in dist:\n",
    "                dist[c] = 0\n",
    "            dist[c] += 1\n",
    "        return dist\n",
    "    return freq_dist(s1) == freq_dist(s2)\n",
    "\n",
    "for s, ans in zip([(\"abc\", \"cba\"), (\"abca\", \"aabc\"),\n",
    "                   (\"aaabbcc\", \"aaabdcc\"), (\"abc\", \"ab\")],\n",
    "            [True, True, False, False]):\n",
    "    assert check_permute_1(*s) == check_permute_2(*s) == ans\n",
    "else:\n",
    "    print \"Passed all tests.\"\n",
    "    "
   ]
  },
  {
   "cell_type": "markdown",
   "metadata": {},
   "source": [
    "## URLify\n",
    "\n",
    "Replace spaces with %20 given string length which can accomodate everything.\n",
    "\n",
    "**Approach: ** Start from the end. Swap empty space with last chars and move to beginning. If there is space fill in %20 in its place and then move."
   ]
  },
  {
   "cell_type": "code",
   "execution_count": 3,
   "metadata": {
    "collapsed": false
   },
   "outputs": [
    {
     "name": "stdout",
     "output_type": "stream",
     "text": [
      "'The Top Mop    ', n(spaces)=2\n",
      "'The%20Top%20Mop'\n",
      "'Shu Bhan Shu    ', n(spaces)=2\n",
      "'Shu%20Bhan%20Shu'\n",
      "'   ', n(spaces)=1\n",
      "'%20'\n"
     ]
    }
   ],
   "source": [
    "def URLify(s):\n",
    "    orig_len = len(s)\n",
    "    spaces = s.count(\" \")\n",
    "    s = list(s) + [\" \"]*(2*spaces)\n",
    "    print \"\\'%s\\', n(spaces)=%s\" % (\"\".join(s), spaces)\n",
    "    i = len(s)-1\n",
    "    j = orig_len-1\n",
    "    while i >= 0 and j >= 0:\n",
    "        if s[j] == \" \":\n",
    "            s[j] = \"%\"\n",
    "            s[i] = \"0\"\n",
    "            i -= 1\n",
    "            s[i] = \"2\"\n",
    "            i -= 1\n",
    "        s[i] = s[j]\n",
    "        i -= 1\n",
    "        j -= 1\n",
    "    return \"\".join(s)\n",
    "\n",
    "\n",
    "for s in [\"The Top Mop\", \"Shu Bhan Shu\", \" \"]:\n",
    "    print \"\\'%s\\'\" % URLify(s)"
   ]
  },
  {
   "cell_type": "markdown",
   "metadata": {},
   "source": [
    "## Palindrome permutation\n",
    "\n",
    "Find if string is a permutation of a palindrome. \n",
    "\n",
    "**Approach 1: ** Create frequency dist and then check if number of odd frequency chars is 1. "
   ]
  },
  {
   "cell_type": "code",
   "execution_count": 4,
   "metadata": {
    "collapsed": false
   },
   "outputs": [
    {
     "name": "stdout",
     "output_type": "stream",
     "text": [
      "Tact Coa {'a': 2, 'c': 2, 't': 2, 'o': 1}\n",
      "True\n",
      "Shu bhanshu {'a': 1, 'b': 1, 'h': 3, 'n': 1, 's': 2, 'u': 2}\n",
      "False\n"
     ]
    }
   ],
   "source": [
    "def is_palindrome_permute(s):\n",
    "    dist = {}\n",
    "    for c in s.lower():\n",
    "        if c == \" \":\n",
    "            continue\n",
    "        if c not in dist:\n",
    "            dist[c] = 0\n",
    "        dist[c] += 1\n",
    "    num_odd = 0\n",
    "    print dist\n",
    "    for k,v in dist.iteritems():\n",
    "        if v % 2 != 0:\n",
    "            num_odd += 1\n",
    "        if num_odd > 1:\n",
    "            return False\n",
    "    return True\n",
    "\n",
    "\n",
    "for s in [\"Tact Coa\", \"Shu bhanshu\"]:\n",
    "    print s, is_palindrome_permute(s)"
   ]
  },
  {
   "cell_type": "markdown",
   "metadata": {},
   "source": [
    "## One edit away\n",
    "\n",
    "Check if 2 strings are 1 edit distance away\n",
    "\n",
    "** Approach :** If lengths are same then only one char should differ. Else pad smaller by space in end. Align strings. "
   ]
  },
  {
   "cell_type": "code",
   "execution_count": 5,
   "metadata": {
    "collapsed": false
   },
   "outputs": [
    {
     "name": "stdout",
     "output_type": "stream",
     "text": [
      "abc abc Char changed\n",
      "True\n",
      "pale ale Char deleted\n",
      "s1[0]=a, s2[0]=p, edits=0\n",
      "True\n",
      "pales pale Char deleted\n",
      "True\n",
      "bad badly False\n",
      "pale bale Char changed\n",
      "True\n",
      "Char deleted\n",
      "s1[1]=a, s2[1]=l, edits=0\n",
      "Char deleted\n",
      "s1[0]=b, s2[0]=c, edits=0\n",
      "s1[0]=b, s2[1]=a, edits=1\n",
      "s1[0]=b, s2[2]=d, edits=2\n"
     ]
    },
    {
     "data": {
      "text/plain": [
       "False"
      ]
     },
     "execution_count": 5,
     "metadata": {},
     "output_type": "execute_result"
    }
   ],
   "source": [
    "def is_n_edit_away(s1,s2, max_edits=1):\n",
    "    \"\"\"Edits should all be of one kind\n",
    "    either char swaps or char deletions (or additions)\n",
    "    max_edits: edits one one kind which are allowed\n",
    "    \"\"\"\n",
    "    \n",
    "    l_s1 = len(s1)\n",
    "    l_s2 = len(s2)\n",
    "    if abs(l_s1-l_s2) > max_edits:\n",
    "        return False\n",
    "    edits = 0\n",
    "    if l_s1 == l_s2:\n",
    "        # One char replaced\n",
    "        print \"Char changed\"\n",
    "        for i in xrange(l_s1):\n",
    "            if s1[i] != s2[i]:\n",
    "                edits += 1\n",
    "            if edits > max_edits:\n",
    "                return False\n",
    "        return True\n",
    "    if l_s1 > l_s2:\n",
    "        s1, s2 = s2, s1\n",
    "        l_s1, l_s2 = l_s2, l_s1\n",
    "    i_s1, i_s2 = 0, 0\n",
    "    edits = 0\n",
    "    print \"Char deleted\"\n",
    "    while i_s1 < l_s1 and i_s2 < l_s2:\n",
    "        if edits > max_edits:\n",
    "            return False\n",
    "        if s1[i_s1] != s2[i_s2]:\n",
    "            print \"s1[%s]=%s, s2[%s]=%s, edits=%s\" % (\n",
    "                i_s1, s1[i_s1], i_s2, s2[i_s2], edits)\n",
    "            edits += 1\n",
    "            i_s2 += 1\n",
    "            continue\n",
    "        i_s1 += 1\n",
    "        i_s2 += 1\n",
    "    return True\n",
    "\n",
    "\n",
    "for s1, s2 in zip([\"abc\", \"pale\", \"pales\", \"bad\", \"pale\"],\n",
    "                  [\"abc\", \"ale\", \"pale\", \"badly\", \"bale\"]):\n",
    "    print s1, s2, is_n_edit_away(s1, s2)\n",
    "    \n",
    "is_n_edit_away(\"bad\", \"blady\", max_edits=3)\n",
    "is_n_edit_away(\"bad\", \"cady\", max_edits=2)"
   ]
  }
 ],
 "metadata": {
  "anaconda-cloud": {},
  "kernelspec": {
   "display_name": "Python [default]",
   "language": "python",
   "name": "python2"
  },
  "language_info": {
   "codemirror_mode": {
    "name": "ipython",
    "version": 2
   },
   "file_extension": ".py",
   "mimetype": "text/x-python",
   "name": "python",
   "nbconvert_exporter": "python",
   "pygments_lexer": "ipython2",
   "version": "2.7.12"
  }
 },
 "nbformat": 4,
 "nbformat_minor": 1
}
